{
 "cells": [
  {
   "cell_type": "code",
   "execution_count": 8,
   "metadata": {},
   "outputs": [
    {
     "name": "stdout",
     "output_type": "stream",
     "text": [
      "Done.Video at video_output\n"
     ]
    }
   ],
   "source": [
    "import cv2\n",
    "\n",
    "\n",
    "class VideoDector():\n",
    "  def __init__(self,\n",
    "                 width=640,\n",
    "                 height=480,\n",
    "                 outputfilename=\"output\"\n",
    "                 ):\n",
    "        self.width = width\n",
    "        self.height = height\n",
    "        self.outputfilename = outputfilename\n",
    "        \n",
    "        cap= cv2.VideoCapture(0)\n",
    "\n",
    "        if (cap.isOpened() == False):\n",
    "          print('Error while trying to read video. Please check path again')\n",
    "        # get the frame width and height\n",
    "        frame_width = self.width\n",
    "        frame_height = self.height\n",
    "        \n",
    "        # define codec and create VideoWriter object \n",
    "        #video output will be saved in the current directory\n",
    "        out = cv2.VideoWriter(f\"{self.outputfilename}.mp4\", \n",
    "                              cv2.VideoWriter_fourcc(*'mp4v'), 30, \n",
    "                              (frame_width, frame_height))\n",
    "\n",
    "   \n",
    "        while True: \n",
    "            # capture each frame of the video\n",
    "            ret, frame = cap.read()\n",
    "            #img = cv2.cvtColor( np.float32(frame), cv2.COLOR_BGR2RGB)  \n",
    "            \n",
    "           \n",
    "            if ret == True:\n",
    "                #img = cv2.cvtColor(frame, cv2.COLOR_BGR2RGB)\n",
    "                #cv2_imshow(image)\n",
    "                #put some rectangle and text\n",
    "\n",
    "                cv2.rectangle(frame, (50, 10), (150, 50), (255, 255, 255), thickness=-1)\n",
    "                font = cv2.FONT_HERSHEY_DUPLEX\n",
    "                display = \"hello\"\n",
    "                cv2.putText(frame,\n",
    "                            display,\n",
    "                            (50 + 5, 10 + 25),\n",
    "                            font,\n",
    "                            0.75,\n",
    "                            (0, 0, 0),\n",
    "                            1)\n",
    "                cv2.imshow('frame', frame)\n",
    "                out.write(frame)\n",
    "                if cv2.waitKey(1) & 0xFF == ord('q'):\n",
    "                    break\n",
    "  \n",
    "            else:\n",
    "                break\n",
    "\n",
    "            \n",
    "        # release VideoCapture()\n",
    "        cap.release()\n",
    "        # close all frames and video windows\n",
    "        cv2.destroyAllWindows()\n",
    "        print(f\"Done.Video at \"+ self.outputfilename)\n",
    "\n",
    "\n",
    "def main():\n",
    "    VideoDector(outputfilename = 'video_output')\n",
    "   \n",
    "if __name__ == \"__main__\":\n",
    "    main()\n"
   ]
  },
  {
   "cell_type": "code",
   "execution_count": null,
   "metadata": {},
   "outputs": [],
   "source": []
  }
 ],
 "metadata": {
  "interpreter": {
   "hash": "ccef6d892591bb3ab92a365675b31270e1f831a19b434e3b6026351d8d2d41e5"
  },
  "kernelspec": {
   "display_name": "Python 3.7.11 ('deeplearning2')",
   "language": "python",
   "name": "python3"
  },
  "language_info": {
   "codemirror_mode": {
    "name": "ipython",
    "version": 3
   },
   "file_extension": ".py",
   "mimetype": "text/x-python",
   "name": "python",
   "nbconvert_exporter": "python",
   "pygments_lexer": "ipython3",
   "version": "3.7.11"
  },
  "orig_nbformat": 4
 },
 "nbformat": 4,
 "nbformat_minor": 2
}
